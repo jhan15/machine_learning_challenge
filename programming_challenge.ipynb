{
 "cells": [
  {
   "cell_type": "code",
   "execution_count": 1,
   "metadata": {},
   "outputs": [],
   "source": [
    "import pandas as pd\n",
    "import numpy as np\n",
    "import matplotlib.pyplot as plt\n",
    "import seaborn as sns\n",
    "%matplotlib inline\n",
    "\n",
    "pd.options.display.float_format = '{:.2f}'.format\n",
    "\n",
    "all_train_data = pd.read_csv('TrainOnMe.csv', sep=',', na_values='?')"
   ]
  },
  {
   "cell_type": "code",
   "execution_count": 2,
   "metadata": {},
   "outputs": [],
   "source": [
    "num_cols = ['x1', 'x2', 'x3', 'x4', 'x7', 'x8', 'x9', 'x10']\n",
    "cat_cols = ['x5', 'x6']\n",
    "\n",
    "# data preprocessing function\n",
    "def data_prepocessing(df): \n",
    "    df = df.iloc[:, 1:]\n",
    "    df = df.dropna()\n",
    "    \n",
    "    for col in num_cols:\n",
    "        df[col] = df[col].astype('float')\n",
    "    \n",
    "    df = df[(df.x7 > -10) & (df.x8 < 10)]\n",
    "    \n",
    "    if df.x5.dtype == 'bool':\n",
    "        df.x5 = df.x5.replace({True: 1, False: 0})\n",
    "    if df.x5.dtype == 'O':\n",
    "        df.x5 = df.x5.replace({'True': 1, 'False': 0})\n",
    "    df.x6 = df.x6.replace({'A': 0, 'B': 1, 'C': 2, 'D': 3, 'E': 4, 'F': 5, 'Fx': 6})\n",
    "    \n",
    "    return df"
   ]
  },
  {
   "cell_type": "code",
   "execution_count": 3,
   "metadata": {},
   "outputs": [
    {
     "data": {
      "text/html": [
       "<div>\n",
       "<style scoped>\n",
       "    .dataframe tbody tr th:only-of-type {\n",
       "        vertical-align: middle;\n",
       "    }\n",
       "\n",
       "    .dataframe tbody tr th {\n",
       "        vertical-align: top;\n",
       "    }\n",
       "\n",
       "    .dataframe thead th {\n",
       "        text-align: right;\n",
       "    }\n",
       "</style>\n",
       "<table border=\"1\" class=\"dataframe\">\n",
       "  <thead>\n",
       "    <tr style=\"text-align: right;\">\n",
       "      <th></th>\n",
       "      <th>x1</th>\n",
       "      <th>x2</th>\n",
       "      <th>x3</th>\n",
       "      <th>x4</th>\n",
       "      <th>x5</th>\n",
       "      <th>x6</th>\n",
       "      <th>x7</th>\n",
       "      <th>x8</th>\n",
       "      <th>x9</th>\n",
       "      <th>x10</th>\n",
       "    </tr>\n",
       "  </thead>\n",
       "  <tbody>\n",
       "    <tr>\n",
       "      <th>count</th>\n",
       "      <td>994.00</td>\n",
       "      <td>994.00</td>\n",
       "      <td>994.00</td>\n",
       "      <td>994.00</td>\n",
       "      <td>994.00</td>\n",
       "      <td>994.00</td>\n",
       "      <td>994.00</td>\n",
       "      <td>994.00</td>\n",
       "      <td>994.00</td>\n",
       "      <td>994.00</td>\n",
       "    </tr>\n",
       "    <tr>\n",
       "      <th>mean</th>\n",
       "      <td>0.01</td>\n",
       "      <td>0.02</td>\n",
       "      <td>-0.45</td>\n",
       "      <td>0.55</td>\n",
       "      <td>0.31</td>\n",
       "      <td>3.59</td>\n",
       "      <td>-0.07</td>\n",
       "      <td>-0.21</td>\n",
       "      <td>-1.00</td>\n",
       "      <td>1.14</td>\n",
       "    </tr>\n",
       "    <tr>\n",
       "      <th>std</th>\n",
       "      <td>1.38</td>\n",
       "      <td>1.01</td>\n",
       "      <td>0.41</td>\n",
       "      <td>0.35</td>\n",
       "      <td>0.46</td>\n",
       "      <td>2.16</td>\n",
       "      <td>1.44</td>\n",
       "      <td>1.32</td>\n",
       "      <td>2.00</td>\n",
       "      <td>1.27</td>\n",
       "    </tr>\n",
       "    <tr>\n",
       "      <th>min</th>\n",
       "      <td>-5.19</td>\n",
       "      <td>-3.08</td>\n",
       "      <td>-1.49</td>\n",
       "      <td>-0.07</td>\n",
       "      <td>0.00</td>\n",
       "      <td>0.00</td>\n",
       "      <td>-3.47</td>\n",
       "      <td>-3.16</td>\n",
       "      <td>-7.07</td>\n",
       "      <td>-3.02</td>\n",
       "    </tr>\n",
       "    <tr>\n",
       "      <th>25%</th>\n",
       "      <td>-1.01</td>\n",
       "      <td>-0.66</td>\n",
       "      <td>-0.72</td>\n",
       "      <td>0.27</td>\n",
       "      <td>0.00</td>\n",
       "      <td>1.00</td>\n",
       "      <td>-1.11</td>\n",
       "      <td>-1.14</td>\n",
       "      <td>-2.35</td>\n",
       "      <td>0.33</td>\n",
       "    </tr>\n",
       "    <tr>\n",
       "      <th>50%</th>\n",
       "      <td>0.06</td>\n",
       "      <td>0.00</td>\n",
       "      <td>-0.43</td>\n",
       "      <td>0.53</td>\n",
       "      <td>0.00</td>\n",
       "      <td>5.00</td>\n",
       "      <td>-0.36</td>\n",
       "      <td>-0.49</td>\n",
       "      <td>-1.38</td>\n",
       "      <td>1.13</td>\n",
       "    </tr>\n",
       "    <tr>\n",
       "      <th>75%</th>\n",
       "      <td>0.95</td>\n",
       "      <td>0.72</td>\n",
       "      <td>-0.12</td>\n",
       "      <td>0.79</td>\n",
       "      <td>1.00</td>\n",
       "      <td>5.00</td>\n",
       "      <td>0.90</td>\n",
       "      <td>0.50</td>\n",
       "      <td>-0.08</td>\n",
       "      <td>1.92</td>\n",
       "    </tr>\n",
       "    <tr>\n",
       "      <th>max</th>\n",
       "      <td>4.73</td>\n",
       "      <td>3.37</td>\n",
       "      <td>0.41</td>\n",
       "      <td>1.38</td>\n",
       "      <td>1.00</td>\n",
       "      <td>6.00</td>\n",
       "      <td>5.18</td>\n",
       "      <td>4.75</td>\n",
       "      <td>6.24</td>\n",
       "      <td>6.00</td>\n",
       "    </tr>\n",
       "  </tbody>\n",
       "</table>\n",
       "</div>"
      ],
      "text/plain": [
       "          x1     x2     x3     x4     x5     x6     x7     x8     x9    x10\n",
       "count 994.00 994.00 994.00 994.00 994.00 994.00 994.00 994.00 994.00 994.00\n",
       "mean    0.01   0.02  -0.45   0.55   0.31   3.59  -0.07  -0.21  -1.00   1.14\n",
       "std     1.38   1.01   0.41   0.35   0.46   2.16   1.44   1.32   2.00   1.27\n",
       "min    -5.19  -3.08  -1.49  -0.07   0.00   0.00  -3.47  -3.16  -7.07  -3.02\n",
       "25%    -1.01  -0.66  -0.72   0.27   0.00   1.00  -1.11  -1.14  -2.35   0.33\n",
       "50%     0.06   0.00  -0.43   0.53   0.00   5.00  -0.36  -0.49  -1.38   1.13\n",
       "75%     0.95   0.72  -0.12   0.79   1.00   5.00   0.90   0.50  -0.08   1.92\n",
       "max     4.73   3.37   0.41   1.38   1.00   6.00   5.18   4.75   6.24   6.00"
      ]
     },
     "execution_count": 3,
     "metadata": {},
     "output_type": "execute_result"
    }
   ],
   "source": [
    "# preprocess data and extract features and labels\n",
    "all_train_data = data_prepocessing(all_train_data)\n",
    "\n",
    "num_features = all_train_data[num_cols]\n",
    "cat_features = all_train_data[cat_cols]\n",
    "labels = all_train_data.y\n",
    "\n",
    "all_train_data.describe()"
   ]
  },
  {
   "cell_type": "code",
   "execution_count": 4,
   "metadata": {},
   "outputs": [
    {
     "name": "stdout",
     "output_type": "stream",
     "text": [
      "classes:\n",
      "  ['Atsuto' 'Bob' 'Jörg']\n",
      "samples:\n",
      "  [295 516 183]\n",
      "%:\n",
      "  [0.29678068 0.51911469 0.18410463]\n"
     ]
    }
   ],
   "source": [
    "# check number of samples in each class\n",
    "classes, cnts = np.unique(labels, return_counts=True)\n",
    "print('classes:\\n  {}'.format(classes))\n",
    "print('samples:\\n  {}'.format(cnts))\n",
    "print('%:\\n  {}'.format(cnts/len(labels)))"
   ]
  },
  {
   "cell_type": "code",
   "execution_count": 5,
   "metadata": {},
   "outputs": [],
   "source": [
    "# convert to numerical labels\n",
    "labels = labels.replace({'Atsuto': 0, 'Bob': 1, 'Jörg': 2})"
   ]
  },
  {
   "cell_type": "code",
   "execution_count": 6,
   "metadata": {},
   "outputs": [],
   "source": [
    "# function to plot histogram of features\n",
    "def features_hist(df):\n",
    "    n_bins = 50\n",
    "    for col in num_cols:\n",
    "        ax = plt.subplots(figsize=(6,3))\n",
    "        ax = plt.hist(df[col], bins=n_bins)\n",
    "        title=\"Histogram of \" + col\n",
    "        plt.title(title, fontsize=12)\n",
    "        plt.show()"
   ]
  },
  {
   "cell_type": "code",
   "execution_count": 7,
   "metadata": {},
   "outputs": [],
   "source": [
    "# transform data to Gaussian-like\n",
    "from sklearn.preprocessing import PowerTransformer\n",
    "\n",
    "def feature_transformer(df):\n",
    "    pt = PowerTransformer(standardize=False)\n",
    "    transformed = pd.DataFrame(pt.fit_transform(df))\n",
    "\n",
    "    transformed.columns=df.columns\n",
    "    transformed.index=df.index\n",
    "    \n",
    "    return transformed"
   ]
  },
  {
   "cell_type": "code",
   "execution_count": 8,
   "metadata": {},
   "outputs": [],
   "source": [
    "# transform features\n",
    "num_features_transformed = feature_transformer(num_features)"
   ]
  },
  {
   "cell_type": "code",
   "execution_count": 9,
   "metadata": {},
   "outputs": [
    {
     "data": {
      "image/png": "[encoded data removed]",
      "text/plain": [
       "<Figure size 432x216 with 1 Axes>"
      ]
     },
     "metadata": {
      "needs_background": "light"
     },
     "output_type": "display_data"
    },
    {
     "data": {
      "image/png": "[encoded data removed]",
      "text/plain": [
       "<Figure size 432x216 with 1 Axes>"
      ]
     },
     "metadata": {
      "needs_background": "light"
     },
     "output_type": "display_data"
    },
    {
     "data": {
      "image/png": "[encoded data removed]",
      "text/plain": [
       "<Figure size 432x216 with 1 Axes>"
      ]
     },
     "metadata": {
      "needs_background": "light"
     },
     "output_type": "display_data"
    },
    {
     "data": {
      "image/png": "[encoded data removed]",
      "text/plain": [
       "<Figure size 432x216 with 1 Axes>"
      ]
     },
     "metadata": {
      "needs_background": "light"
     },
     "output_type": "display_data"
    },
    {
     "data": {
      "image/png": "[encoded data removed]",
      "text/plain": [
       "<Figure size 432x216 with 1 Axes>"
      ]
     },
     "metadata": {
      "needs_background": "light"
     },
     "output_type": "display_data"
    },
    {
     "data": {
      "image/png": "[encoded data removed]",
      "text/plain": [
       "<Figure size 432x216 with 1 Axes>"
      ]
     },
     "metadata": {
      "needs_background": "light"
     },
     "output_type": "display_data"
    },
    {
     "data": {
      "image/png": "[encoded data removed]",
      "text/plain": [
       "<Figure size 432x216 with 1 Axes>"
      ]
     },
     "metadata": {
      "needs_background": "light"
     },
     "output_type": "display_data"
    },
    {
     "data": {
      "image/png": "[encoded data removed]",
      "text/plain": [
       "<Figure size 432x216 with 1 Axes>"
      ]
     },
     "metadata": {
      "needs_background": "light"
     },
     "output_type": "display_data"
    }
   ],
   "source": [
    "# plot histogram\n",
    "features_hist(num_features_transformed)"
   ]
  },
  {
   "cell_type": "code",
   "execution_count": 10,
   "metadata": {},
   "outputs": [
    {
     "data": {
      "text/html": [
       "<div>\n",
       "<style scoped>\n",
       "    .dataframe tbody tr th:only-of-type {\n",
       "        vertical-align: middle;\n",
       "    }\n",
       "\n",
       "    .dataframe tbody tr th {\n",
       "        vertical-align: top;\n",
       "    }\n",
       "\n",
       "    .dataframe thead th {\n",
       "        text-align: right;\n",
       "    }\n",
       "</style>\n",
       "<table border=\"1\" class=\"dataframe\">\n",
       "  <thead>\n",
       "    <tr style=\"text-align: right;\">\n",
       "      <th></th>\n",
       "      <th>x1</th>\n",
       "      <th>x2</th>\n",
       "      <th>x3</th>\n",
       "      <th>x4</th>\n",
       "      <th>x7</th>\n",
       "      <th>x8</th>\n",
       "      <th>x9</th>\n",
       "      <th>x10</th>\n",
       "    </tr>\n",
       "  </thead>\n",
       "  <tbody>\n",
       "    <tr>\n",
       "      <th>x1</th>\n",
       "      <td>1.00</td>\n",
       "      <td>-0.34</td>\n",
       "      <td>0.04</td>\n",
       "      <td>-0.03</td>\n",
       "      <td>0.02</td>\n",
       "      <td>-0.01</td>\n",
       "      <td>0.03</td>\n",
       "      <td>-0.01</td>\n",
       "    </tr>\n",
       "    <tr>\n",
       "      <th>x2</th>\n",
       "      <td>-0.34</td>\n",
       "      <td>1.00</td>\n",
       "      <td>0.04</td>\n",
       "      <td>-0.04</td>\n",
       "      <td>-0.03</td>\n",
       "      <td>0.01</td>\n",
       "      <td>-0.02</td>\n",
       "      <td>0.06</td>\n",
       "    </tr>\n",
       "    <tr>\n",
       "      <th>x3</th>\n",
       "      <td>0.04</td>\n",
       "      <td>0.04</td>\n",
       "      <td>1.00</td>\n",
       "      <td>-0.98</td>\n",
       "      <td>-0.26</td>\n",
       "      <td>-0.24</td>\n",
       "      <td>-0.18</td>\n",
       "      <td>-0.04</td>\n",
       "    </tr>\n",
       "    <tr>\n",
       "      <th>x4</th>\n",
       "      <td>-0.03</td>\n",
       "      <td>-0.04</td>\n",
       "      <td>-0.98</td>\n",
       "      <td>1.00</td>\n",
       "      <td>0.26</td>\n",
       "      <td>0.24</td>\n",
       "      <td>0.18</td>\n",
       "      <td>0.05</td>\n",
       "    </tr>\n",
       "    <tr>\n",
       "      <th>x7</th>\n",
       "      <td>0.02</td>\n",
       "      <td>-0.03</td>\n",
       "      <td>-0.26</td>\n",
       "      <td>0.26</td>\n",
       "      <td>1.00</td>\n",
       "      <td>0.41</td>\n",
       "      <td>0.34</td>\n",
       "      <td>0.05</td>\n",
       "    </tr>\n",
       "    <tr>\n",
       "      <th>x8</th>\n",
       "      <td>-0.01</td>\n",
       "      <td>0.01</td>\n",
       "      <td>-0.24</td>\n",
       "      <td>0.24</td>\n",
       "      <td>0.41</td>\n",
       "      <td>1.00</td>\n",
       "      <td>0.30</td>\n",
       "      <td>-0.04</td>\n",
       "    </tr>\n",
       "    <tr>\n",
       "      <th>x9</th>\n",
       "      <td>0.03</td>\n",
       "      <td>-0.02</td>\n",
       "      <td>-0.18</td>\n",
       "      <td>0.18</td>\n",
       "      <td>0.34</td>\n",
       "      <td>0.30</td>\n",
       "      <td>1.00</td>\n",
       "      <td>-0.09</td>\n",
       "    </tr>\n",
       "    <tr>\n",
       "      <th>x10</th>\n",
       "      <td>-0.01</td>\n",
       "      <td>0.06</td>\n",
       "      <td>-0.04</td>\n",
       "      <td>0.05</td>\n",
       "      <td>0.05</td>\n",
       "      <td>-0.04</td>\n",
       "      <td>-0.09</td>\n",
       "      <td>1.00</td>\n",
       "    </tr>\n",
       "  </tbody>\n",
       "</table>\n",
       "</div>"
      ],
      "text/plain": [
       "       x1    x2    x3    x4    x7    x8    x9   x10\n",
       "x1   1.00 -0.34  0.04 -0.03  0.02 -0.01  0.03 -0.01\n",
       "x2  -0.34  1.00  0.04 -0.04 -0.03  0.01 -0.02  0.06\n",
       "x3   0.04  0.04  1.00 -0.98 -0.26 -0.24 -0.18 -0.04\n",
       "x4  -0.03 -0.04 -0.98  1.00  0.26  0.24  0.18  0.05\n",
       "x7   0.02 -0.03 -0.26  0.26  1.00  0.41  0.34  0.05\n",
       "x8  -0.01  0.01 -0.24  0.24  0.41  1.00  0.30 -0.04\n",
       "x9   0.03 -0.02 -0.18  0.18  0.34  0.30  1.00 -0.09\n",
       "x10 -0.01  0.06 -0.04  0.05  0.05 -0.04 -0.09  1.00"
      ]
     },
     "execution_count": 10,
     "metadata": {},
     "output_type": "execute_result"
    }
   ],
   "source": [
    "# check correlation of features\n",
    "cor = num_features_transformed.corr(method='pearson')\n",
    "cor"
   ]
  },
  {
   "cell_type": "code",
   "execution_count": 11,
   "metadata": {},
   "outputs": [
    {
     "data": {
      "image/png": "[encoded data removed]",
      "text/plain": [
       "<Figure size 576x432 with 2 Axes>"
      ]
     },
     "metadata": {
      "needs_background": "light"
     },
     "output_type": "display_data"
    }
   ],
   "source": [
    "# plot correlation\n",
    "fig, ax = plt.subplots(figsize=(8,6))\n",
    "sns.heatmap(cor, mask=np.zeros_like(cor, dtype=np.bool), cmap=sns.diverging_palette(220, 10, as_cmap=True),\n",
    "            square=True, ax=ax)\n",
    "plt.show()"
   ]
  },
  {
   "cell_type": "code",
   "execution_count": 12,
   "metadata": {},
   "outputs": [],
   "source": [
    "# drop redundant features\n",
    "# drop_cols = ['x3']\n",
    "# features_scaled = features_scaled.drop(columns=drop_cols)"
   ]
  },
  {
   "cell_type": "code",
   "execution_count": 27,
   "metadata": {},
   "outputs": [
    {
     "data": {
      "text/html": [
       "<div>\n",
       "<style scoped>\n",
       "    .dataframe tbody tr th:only-of-type {\n",
       "        vertical-align: middle;\n",
       "    }\n",
       "\n",
       "    .dataframe tbody tr th {\n",
       "        vertical-align: top;\n",
       "    }\n",
       "\n",
       "    .dataframe thead th {\n",
       "        text-align: right;\n",
       "    }\n",
       "</style>\n",
       "<table border=\"1\" class=\"dataframe\">\n",
       "  <thead>\n",
       "    <tr style=\"text-align: right;\">\n",
       "      <th></th>\n",
       "      <th>x1</th>\n",
       "      <th>x2</th>\n",
       "      <th>x3</th>\n",
       "      <th>x4</th>\n",
       "      <th>x7</th>\n",
       "      <th>x8</th>\n",
       "      <th>x9</th>\n",
       "      <th>x10</th>\n",
       "      <th>x5</th>\n",
       "      <th>x6</th>\n",
       "    </tr>\n",
       "  </thead>\n",
       "  <tbody>\n",
       "    <tr>\n",
       "      <th>count</th>\n",
       "      <td>994.00</td>\n",
       "      <td>994.00</td>\n",
       "      <td>994.00</td>\n",
       "      <td>994.00</td>\n",
       "      <td>994.00</td>\n",
       "      <td>994.00</td>\n",
       "      <td>994.00</td>\n",
       "      <td>994.00</td>\n",
       "      <td>994.00</td>\n",
       "      <td>994.00</td>\n",
       "    </tr>\n",
       "    <tr>\n",
       "      <th>mean</th>\n",
       "      <td>0.01</td>\n",
       "      <td>0.01</td>\n",
       "      <td>-0.38</td>\n",
       "      <td>0.44</td>\n",
       "      <td>-0.28</td>\n",
       "      <td>-0.48</td>\n",
       "      <td>-1.47</td>\n",
       "      <td>1.11</td>\n",
       "      <td>0.31</td>\n",
       "      <td>3.59</td>\n",
       "    </tr>\n",
       "    <tr>\n",
       "      <th>std</th>\n",
       "      <td>1.38</td>\n",
       "      <td>1.01</td>\n",
       "      <td>0.34</td>\n",
       "      <td>0.26</td>\n",
       "      <td>1.42</td>\n",
       "      <td>1.32</td>\n",
       "      <td>2.21</td>\n",
       "      <td>1.23</td>\n",
       "      <td>0.46</td>\n",
       "      <td>2.16</td>\n",
       "    </tr>\n",
       "    <tr>\n",
       "      <th>min</th>\n",
       "      <td>-5.15</td>\n",
       "      <td>-3.19</td>\n",
       "      <td>-1.16</td>\n",
       "      <td>-0.07</td>\n",
       "      <td>-4.69</td>\n",
       "      <td>-4.74</td>\n",
       "      <td>-10.86</td>\n",
       "      <td>-3.13</td>\n",
       "      <td>0.00</td>\n",
       "      <td>0.00</td>\n",
       "    </tr>\n",
       "    <tr>\n",
       "      <th>25%</th>\n",
       "      <td>-1.01</td>\n",
       "      <td>-0.66</td>\n",
       "      <td>-0.63</td>\n",
       "      <td>0.25</td>\n",
       "      <td>-1.27</td>\n",
       "      <td>-1.39</td>\n",
       "      <td>-2.93</td>\n",
       "      <td>0.33</td>\n",
       "      <td>0.00</td>\n",
       "      <td>1.00</td>\n",
       "    </tr>\n",
       "    <tr>\n",
       "      <th>50%</th>\n",
       "      <td>0.06</td>\n",
       "      <td>0.00</td>\n",
       "      <td>-0.39</td>\n",
       "      <td>0.45</td>\n",
       "      <td>-0.38</td>\n",
       "      <td>-0.53</td>\n",
       "      <td>-1.60</td>\n",
       "      <td>1.11</td>\n",
       "      <td>0.00</td>\n",
       "      <td>5.00</td>\n",
       "    </tr>\n",
       "    <tr>\n",
       "      <th>75%</th>\n",
       "      <td>0.95</td>\n",
       "      <td>0.71</td>\n",
       "      <td>-0.12</td>\n",
       "      <td>0.63</td>\n",
       "      <td>0.80</td>\n",
       "      <td>0.46</td>\n",
       "      <td>-0.08</td>\n",
       "      <td>1.87</td>\n",
       "      <td>1.00</td>\n",
       "      <td>5.00</td>\n",
       "    </tr>\n",
       "    <tr>\n",
       "      <th>max</th>\n",
       "      <td>4.76</td>\n",
       "      <td>3.25</td>\n",
       "      <td>0.45</td>\n",
       "      <td>0.97</td>\n",
       "      <td>3.62</td>\n",
       "      <td>2.95</td>\n",
       "      <td>4.27</td>\n",
       "      <td>5.69</td>\n",
       "      <td>1.00</td>\n",
       "      <td>6.00</td>\n",
       "    </tr>\n",
       "  </tbody>\n",
       "</table>\n",
       "</div>"
      ],
      "text/plain": [
       "          x1     x2     x3     x4     x7     x8     x9    x10     x5     x6\n",
       "count 994.00 994.00 994.00 994.00 994.00 994.00 994.00 994.00 994.00 994.00\n",
       "mean    0.01   0.01  -0.38   0.44  -0.28  -0.48  -1.47   1.11   0.31   3.59\n",
       "std     1.38   1.01   0.34   0.26   1.42   1.32   2.21   1.23   0.46   2.16\n",
       "min    -5.15  -3.19  -1.16  -0.07  -4.69  -4.74 -10.86  -3.13   0.00   0.00\n",
       "25%    -1.01  -0.66  -0.63   0.25  -1.27  -1.39  -2.93   0.33   0.00   1.00\n",
       "50%     0.06   0.00  -0.39   0.45  -0.38  -0.53  -1.60   1.11   0.00   5.00\n",
       "75%     0.95   0.71  -0.12   0.63   0.80   0.46  -0.08   1.87   1.00   5.00\n",
       "max     4.76   3.25   0.45   0.97   3.62   2.95   4.27   5.69   1.00   6.00"
      ]
     },
     "execution_count": 27,
     "metadata": {},
     "output_type": "execute_result"
    }
   ],
   "source": [
    "from sklearn.model_selection import train_test_split\n",
    "\n",
    "# split train and test dataset\n",
    "features = pd.concat([num_features_transformed, cat_features], axis=1)\n",
    "x_train, x_test, y_train, y_test = train_test_split(features, labels, test_size=0.3)\n",
    "features.describe()"
   ]
  },
  {
   "cell_type": "code",
   "execution_count": 28,
   "metadata": {},
   "outputs": [
    {
     "name": "stdout",
     "output_type": "stream",
     "text": [
      "samples in training data:\n",
      "  [207 360 128]\n"
     ]
    }
   ],
   "source": [
    "# check numbers of each class\n",
    "classes, cnts = np.unique(y_train, return_counts=True)\n",
    "print('samples in training data:\\n  {}'.format(cnts))"
   ]
  },
  {
   "cell_type": "code",
   "execution_count": 29,
   "metadata": {},
   "outputs": [],
   "source": [
    "# function to calculate accuracy\n",
    "\n",
    "from sklearn.metrics import accuracy_score\n",
    "\n",
    "def accuracy_calculator(classifier):\n",
    "    pred = classifier.predict(x_test)\n",
    "    accuracy = round(accuracy_score(y_test, pred), 4)\n",
    "    print('test accuracy: {}'.format(accuracy))\n",
    "\n",
    "    lb = np.array(y_test)\n",
    "    acc_per_class = []\n",
    "\n",
    "    for i in range(3):\n",
    "        y_i = pred[lb==i]\n",
    "        acc_per_class.append(round(1 - y_i[y_i!=i].shape[0] / y_i.shape[0], 4))\n",
    "\n",
    "    print('accuracy of classes:\\n  {}'.format(acc_per_class))"
   ]
  },
  {
   "cell_type": "code",
   "execution_count": 30,
   "metadata": {},
   "outputs": [],
   "source": [
    "# classifier 1: random forest\n",
    "# use GridSearchCV to tune parameters\n",
    "\n",
    "from sklearn.ensemble import RandomForestClassifier\n",
    "from sklearn.model_selection import GridSearchCV\n",
    "\n",
    "rf_clf = RandomForestClassifier()\n",
    "\n",
    "parameters = {\n",
    "    'n_estimators'      : [100],\n",
    "    'max_depth'         : [None],\n",
    "    'min_samples_split' : [1, 2, 3, 4, 5],\n",
    "    'min_samples_leaf'  : [1, 2, 3, 4, 5],\n",
    "    'random_state'      : [0],\n",
    "}\n",
    "\n",
    "clf = GridSearchCV(estimator=rf_clf, param_grid=parameters, cv=5, n_jobs=-1)\n",
    "\n",
    "clf.fit(x_train, y_train)\n",
    "\n",
    "best_rf = clf.best_estimator_"
   ]
  },
  {
   "cell_type": "code",
   "execution_count": 31,
   "metadata": {},
   "outputs": [],
   "source": [
    "# classifier 2: extremely randomized tree\n",
    "# use GridSearchCV to tune parameters\n",
    "\n",
    "from sklearn.ensemble import ExtraTreesClassifier\n",
    "\n",
    "ef_clf = ExtraTreesClassifier()\n",
    "\n",
    "parameters = {\n",
    "    'n_estimators'      : [100],\n",
    "    'max_depth'         : [None],\n",
    "    'min_samples_split' : [1, 2, 3, 4, 5],\n",
    "    'min_samples_leaf'  : [1, 2, 3, 4, 5],\n",
    "    'random_state'      : [0],\n",
    "}\n",
    "\n",
    "clf = GridSearchCV(estimator=ef_clf, param_grid=parameters, cv=5, n_jobs=-1)\n",
    "\n",
    "clf.fit(x_train, y_train)\n",
    "\n",
    "best_ef = clf.best_estimator_"
   ]
  },
  {
   "cell_type": "code",
   "execution_count": 32,
   "metadata": {},
   "outputs": [],
   "source": [
    "# classifier 3: gradient tree boosting\n",
    "# use GridSearchCV to tune parameters\n",
    "\n",
    "from sklearn.ensemble import GradientBoostingClassifier\n",
    "\n",
    "gb_clf = GradientBoostingClassifier()\n",
    "\n",
    "parameters = {\n",
    "    'learning_rate'     : [0.1],\n",
    "    'n_estimators'      : [100],\n",
    "    'max_depth'         : [3],\n",
    "    'min_samples_split' : [1, 2, 3],\n",
    "    'min_samples_leaf'  : [1, 2, 3],\n",
    "    'random_state'      : [0],\n",
    "}\n",
    "\n",
    "clf = GridSearchCV(estimator=gb_clf, param_grid=parameters, cv=5, n_jobs=-1)\n",
    "\n",
    "clf.fit(x_train, y_train)\n",
    "\n",
    "best_gb = clf.best_estimator_"
   ]
  },
  {
   "cell_type": "code",
   "execution_count": 33,
   "metadata": {},
   "outputs": [
    {
     "data": {
      "text/plain": [
       "VotingClassifier(estimators=[('rf',\n",
       "                              RandomForestClassifier(min_samples_split=3,\n",
       "                                                     random_state=0)),\n",
       "                             ('ef', ExtraTreesClassifier(random_state=0)),\n",
       "                             ('gb',\n",
       "                              GradientBoostingClassifier(min_samples_split=3,\n",
       "                                                         random_state=0))],\n",
       "                 n_jobs=-1, voting='soft', weights=[1, 1, 1])"
      ]
     },
     "execution_count": 33,
     "metadata": {},
     "output_type": "execute_result"
    }
   ],
   "source": [
    "# apply voting classifer with\n",
    "# classifier 1: random forest\n",
    "# classifier 2: extremely randomized tree\n",
    "# classifier 3: gradient tree boosting\n",
    "\n",
    "from sklearn.ensemble import VotingClassifier\n",
    "\n",
    "voting = VotingClassifier(\n",
    "    estimators=[('rf', best_rf), ('ef', best_ef), ('gb', best_gb)],\n",
    "    voting='soft',\n",
    "    weights=[1, 1, 1],\n",
    "    n_jobs=-1\n",
    ")\n",
    "\n",
    "voting.fit(x_train, y_train)"
   ]
  },
  {
   "cell_type": "code",
   "execution_count": 43,
   "metadata": {},
   "outputs": [
    {
     "name": "stdout",
     "output_type": "stream",
     "text": [
      "test accuracy: 0.9064\n",
      "accuracy of classes:\n",
      "  [0.8636, 0.9744, 0.7818]\n"
     ]
    }
   ],
   "source": [
    "# accuracy of voting\n",
    "# accuracy_calculator(best_rf)\n",
    "# accuracy_calculator(best_ef)\n",
    "# accuracy_calculator(best_gb)\n",
    "accuracy_calculator(voting)"
   ]
  },
  {
   "cell_type": "code",
   "execution_count": 35,
   "metadata": {},
   "outputs": [],
   "source": [
    "# process evluation data\n",
    "all_evalu_data = pd.read_csv('EvaluateOnMe.csv', sep=',')"
   ]
  },
  {
   "cell_type": "code",
   "execution_count": 36,
   "metadata": {},
   "outputs": [
    {
     "data": {
      "text/html": [
       "<div>\n",
       "<style scoped>\n",
       "    .dataframe tbody tr th:only-of-type {\n",
       "        vertical-align: middle;\n",
       "    }\n",
       "\n",
       "    .dataframe tbody tr th {\n",
       "        vertical-align: top;\n",
       "    }\n",
       "\n",
       "    .dataframe thead th {\n",
       "        text-align: right;\n",
       "    }\n",
       "</style>\n",
       "<table border=\"1\" class=\"dataframe\">\n",
       "  <thead>\n",
       "    <tr style=\"text-align: right;\">\n",
       "      <th></th>\n",
       "      <th>x1</th>\n",
       "      <th>x2</th>\n",
       "      <th>x3</th>\n",
       "      <th>x4</th>\n",
       "      <th>x5</th>\n",
       "      <th>x6</th>\n",
       "      <th>x7</th>\n",
       "      <th>x8</th>\n",
       "      <th>x9</th>\n",
       "      <th>x10</th>\n",
       "    </tr>\n",
       "  </thead>\n",
       "  <tbody>\n",
       "    <tr>\n",
       "      <th>count</th>\n",
       "      <td>10000.00</td>\n",
       "      <td>10000.00</td>\n",
       "      <td>10000.00</td>\n",
       "      <td>10000.00</td>\n",
       "      <td>10000.00</td>\n",
       "      <td>10000.00</td>\n",
       "      <td>10000.00</td>\n",
       "      <td>10000.00</td>\n",
       "      <td>10000.00</td>\n",
       "      <td>10000.00</td>\n",
       "    </tr>\n",
       "    <tr>\n",
       "      <th>mean</th>\n",
       "      <td>-0.03</td>\n",
       "      <td>0.01</td>\n",
       "      <td>-0.47</td>\n",
       "      <td>0.57</td>\n",
       "      <td>0.30</td>\n",
       "      <td>3.64</td>\n",
       "      <td>0.02</td>\n",
       "      <td>-0.20</td>\n",
       "      <td>-1.04</td>\n",
       "      <td>1.04</td>\n",
       "    </tr>\n",
       "    <tr>\n",
       "      <th>std</th>\n",
       "      <td>1.43</td>\n",
       "      <td>1.01</td>\n",
       "      <td>0.42</td>\n",
       "      <td>0.36</td>\n",
       "      <td>0.46</td>\n",
       "      <td>2.13</td>\n",
       "      <td>1.42</td>\n",
       "      <td>1.37</td>\n",
       "      <td>2.01</td>\n",
       "      <td>1.29</td>\n",
       "    </tr>\n",
       "    <tr>\n",
       "      <th>min</th>\n",
       "      <td>-5.18</td>\n",
       "      <td>-4.22</td>\n",
       "      <td>-1.58</td>\n",
       "      <td>-0.07</td>\n",
       "      <td>0.00</td>\n",
       "      <td>0.00</td>\n",
       "      <td>-4.14</td>\n",
       "      <td>-3.91</td>\n",
       "      <td>-7.37</td>\n",
       "      <td>-3.88</td>\n",
       "    </tr>\n",
       "    <tr>\n",
       "      <th>25%</th>\n",
       "      <td>-0.99</td>\n",
       "      <td>-0.65</td>\n",
       "      <td>-0.76</td>\n",
       "      <td>0.28</td>\n",
       "      <td>0.00</td>\n",
       "      <td>2.00</td>\n",
       "      <td>-1.07</td>\n",
       "      <td>-1.18</td>\n",
       "      <td>-2.41</td>\n",
       "      <td>0.21</td>\n",
       "    </tr>\n",
       "    <tr>\n",
       "      <th>50%</th>\n",
       "      <td>-0.03</td>\n",
       "      <td>0.00</td>\n",
       "      <td>-0.44</td>\n",
       "      <td>0.55</td>\n",
       "      <td>0.00</td>\n",
       "      <td>5.00</td>\n",
       "      <td>-0.25</td>\n",
       "      <td>-0.47</td>\n",
       "      <td>-1.40</td>\n",
       "      <td>1.05</td>\n",
       "    </tr>\n",
       "    <tr>\n",
       "      <th>75%</th>\n",
       "      <td>0.95</td>\n",
       "      <td>0.69</td>\n",
       "      <td>-0.13</td>\n",
       "      <td>0.81</td>\n",
       "      <td>1.00</td>\n",
       "      <td>5.00</td>\n",
       "      <td>1.00</td>\n",
       "      <td>0.59</td>\n",
       "      <td>0.01</td>\n",
       "      <td>1.88</td>\n",
       "    </tr>\n",
       "    <tr>\n",
       "      <th>max</th>\n",
       "      <td>4.86</td>\n",
       "      <td>3.66</td>\n",
       "      <td>0.42</td>\n",
       "      <td>1.42</td>\n",
       "      <td>1.00</td>\n",
       "      <td>6.00</td>\n",
       "      <td>6.43</td>\n",
       "      <td>7.80</td>\n",
       "      <td>7.79</td>\n",
       "      <td>6.48</td>\n",
       "    </tr>\n",
       "  </tbody>\n",
       "</table>\n",
       "</div>"
      ],
      "text/plain": [
       "            x1       x2       x3       x4       x5       x6       x7       x8  \\\n",
       "count 10000.00 10000.00 10000.00 10000.00 10000.00 10000.00 10000.00 10000.00   \n",
       "mean     -0.03     0.01    -0.47     0.57     0.30     3.64     0.02    -0.20   \n",
       "std       1.43     1.01     0.42     0.36     0.46     2.13     1.42     1.37   \n",
       "min      -5.18    -4.22    -1.58    -0.07     0.00     0.00    -4.14    -3.91   \n",
       "25%      -0.99    -0.65    -0.76     0.28     0.00     2.00    -1.07    -1.18   \n",
       "50%      -0.03     0.00    -0.44     0.55     0.00     5.00    -0.25    -0.47   \n",
       "75%       0.95     0.69    -0.13     0.81     1.00     5.00     1.00     0.59   \n",
       "max       4.86     3.66     0.42     1.42     1.00     6.00     6.43     7.80   \n",
       "\n",
       "            x9      x10  \n",
       "count 10000.00 10000.00  \n",
       "mean     -1.04     1.04  \n",
       "std       2.01     1.29  \n",
       "min      -7.37    -3.88  \n",
       "25%      -2.41     0.21  \n",
       "50%      -1.40     1.05  \n",
       "75%       0.01     1.88  \n",
       "max       7.79     6.48  "
      ]
     },
     "execution_count": 36,
     "metadata": {},
     "output_type": "execute_result"
    }
   ],
   "source": [
    "all_evalu_data = data_prepocessing(all_evalu_data)\n",
    "all_evalu_data.describe()"
   ]
  },
  {
   "cell_type": "code",
   "execution_count": 37,
   "metadata": {},
   "outputs": [
    {
     "data": {
      "image/png": "[encoded data removed]",
      "text/plain": [
       "<Figure size 432x216 with 1 Axes>"
      ]
     },
     "metadata": {
      "needs_background": "light"
     },
     "output_type": "display_data"
    },
    {
     "data": {
      "image/png": "[encoded data removed]",
      "text/plain": [
       "<Figure size 432x216 with 1 Axes>"
      ]
     },
     "metadata": {
      "needs_background": "light"
     },
     "output_type": "display_data"
    },
    {
     "data": {
      "image/png": "[encoded data removed]",
      "text/plain": [
       "<Figure size 432x216 with 1 Axes>"
      ]
     },
     "metadata": {
      "needs_background": "light"
     },
     "output_type": "display_data"
    },
    {
     "data": {
      "image/png": "[encoded data removed]",
      "text/plain": [
       "<Figure size 432x216 with 1 Axes>"
      ]
     },
     "metadata": {
      "needs_background": "light"
     },
     "output_type": "display_data"
    },
    {
     "data": {
      "image/png": "[encoded data removed]",
      "text/plain": [
       "<Figure size 432x216 with 1 Axes>"
      ]
     },
     "metadata": {
      "needs_background": "light"
     },
     "output_type": "display_data"
    },
    {
     "data": {
      "image/png": "[encoded data removed]",
      "text/plain": [
       "<Figure size 432x216 with 1 Axes>"
      ]
     },
     "metadata": {
      "needs_background": "light"
     },
     "output_type": "display_data"
    },
    {
     "data": {
      "image/png": "[encoded data removed]",
      "text/plain": [
       "<Figure size 432x216 with 1 Axes>"
      ]
     },
     "metadata": {
      "needs_background": "light"
     },
     "output_type": "display_data"
    },
    {
     "data": {
      "image/png": "[encoded data removed]",
      "text/plain": [
       "<Figure size 432x216 with 1 Axes>"
      ]
     },
     "metadata": {
      "needs_background": "light"
     },
     "output_type": "display_data"
    }
   ],
   "source": [
    "num_data = all_evalu_data[num_cols]\n",
    "cat_data = all_evalu_data[cat_cols]\n",
    "num_data_transformed = feature_transformer(num_data)\n",
    "features_hist(num_data_transformed)"
   ]
  },
  {
   "cell_type": "code",
   "execution_count": 38,
   "metadata": {},
   "outputs": [
    {
     "data": {
      "text/html": [
       "<div>\n",
       "<style scoped>\n",
       "    .dataframe tbody tr th:only-of-type {\n",
       "        vertical-align: middle;\n",
       "    }\n",
       "\n",
       "    .dataframe tbody tr th {\n",
       "        vertical-align: top;\n",
       "    }\n",
       "\n",
       "    .dataframe thead th {\n",
       "        text-align: right;\n",
       "    }\n",
       "</style>\n",
       "<table border=\"1\" class=\"dataframe\">\n",
       "  <thead>\n",
       "    <tr style=\"text-align: right;\">\n",
       "      <th></th>\n",
       "      <th>x1</th>\n",
       "      <th>x2</th>\n",
       "      <th>x3</th>\n",
       "      <th>x4</th>\n",
       "      <th>x7</th>\n",
       "      <th>x8</th>\n",
       "      <th>x9</th>\n",
       "      <th>x10</th>\n",
       "      <th>x5</th>\n",
       "      <th>x6</th>\n",
       "    </tr>\n",
       "  </thead>\n",
       "  <tbody>\n",
       "    <tr>\n",
       "      <th>count</th>\n",
       "      <td>10000.00</td>\n",
       "      <td>10000.00</td>\n",
       "      <td>10000.00</td>\n",
       "      <td>10000.00</td>\n",
       "      <td>10000.00</td>\n",
       "      <td>10000.00</td>\n",
       "      <td>10000.00</td>\n",
       "      <td>10000.00</td>\n",
       "      <td>10000.00</td>\n",
       "      <td>10000.00</td>\n",
       "    </tr>\n",
       "    <tr>\n",
       "      <th>mean</th>\n",
       "      <td>-0.03</td>\n",
       "      <td>0.01</td>\n",
       "      <td>-0.40</td>\n",
       "      <td>0.45</td>\n",
       "      <td>-0.18</td>\n",
       "      <td>-0.45</td>\n",
       "      <td>-1.50</td>\n",
       "      <td>1.05</td>\n",
       "      <td>0.30</td>\n",
       "      <td>3.64</td>\n",
       "    </tr>\n",
       "    <tr>\n",
       "      <th>std</th>\n",
       "      <td>1.43</td>\n",
       "      <td>1.01</td>\n",
       "      <td>0.35</td>\n",
       "      <td>0.26</td>\n",
       "      <td>1.38</td>\n",
       "      <td>1.37</td>\n",
       "      <td>2.23</td>\n",
       "      <td>1.29</td>\n",
       "      <td>0.46</td>\n",
       "      <td>2.13</td>\n",
       "    </tr>\n",
       "    <tr>\n",
       "      <th>min</th>\n",
       "      <td>-5.18</td>\n",
       "      <td>-4.25</td>\n",
       "      <td>-1.22</td>\n",
       "      <td>-0.07</td>\n",
       "      <td>-5.76</td>\n",
       "      <td>-5.94</td>\n",
       "      <td>-11.27</td>\n",
       "      <td>-3.86</td>\n",
       "      <td>0.00</td>\n",
       "      <td>0.00</td>\n",
       "    </tr>\n",
       "    <tr>\n",
       "      <th>25%</th>\n",
       "      <td>-0.99</td>\n",
       "      <td>-0.66</td>\n",
       "      <td>-0.65</td>\n",
       "      <td>0.26</td>\n",
       "      <td>-1.22</td>\n",
       "      <td>-1.41</td>\n",
       "      <td>-3.01</td>\n",
       "      <td>0.21</td>\n",
       "      <td>0.00</td>\n",
       "      <td>2.00</td>\n",
       "    </tr>\n",
       "    <tr>\n",
       "      <th>50%</th>\n",
       "      <td>-0.03</td>\n",
       "      <td>0.00</td>\n",
       "      <td>-0.40</td>\n",
       "      <td>0.46</td>\n",
       "      <td>-0.26</td>\n",
       "      <td>-0.51</td>\n",
       "      <td>-1.62</td>\n",
       "      <td>1.05</td>\n",
       "      <td>0.00</td>\n",
       "      <td>5.00</td>\n",
       "    </tr>\n",
       "    <tr>\n",
       "      <th>75%</th>\n",
       "      <td>0.95</td>\n",
       "      <td>0.69</td>\n",
       "      <td>-0.13</td>\n",
       "      <td>0.64</td>\n",
       "      <td>0.89</td>\n",
       "      <td>0.53</td>\n",
       "      <td>0.01</td>\n",
       "      <td>1.89</td>\n",
       "      <td>1.00</td>\n",
       "      <td>5.00</td>\n",
       "    </tr>\n",
       "    <tr>\n",
       "      <th>max</th>\n",
       "      <td>4.85</td>\n",
       "      <td>3.63</td>\n",
       "      <td>0.46</td>\n",
       "      <td>0.99</td>\n",
       "      <td>4.33</td>\n",
       "      <td>4.45</td>\n",
       "      <td>5.17</td>\n",
       "      <td>6.53</td>\n",
       "      <td>1.00</td>\n",
       "      <td>6.00</td>\n",
       "    </tr>\n",
       "  </tbody>\n",
       "</table>\n",
       "</div>"
      ],
      "text/plain": [
       "            x1       x2       x3       x4       x7       x8       x9      x10  \\\n",
       "count 10000.00 10000.00 10000.00 10000.00 10000.00 10000.00 10000.00 10000.00   \n",
       "mean     -0.03     0.01    -0.40     0.45    -0.18    -0.45    -1.50     1.05   \n",
       "std       1.43     1.01     0.35     0.26     1.38     1.37     2.23     1.29   \n",
       "min      -5.18    -4.25    -1.22    -0.07    -5.76    -5.94   -11.27    -3.86   \n",
       "25%      -0.99    -0.66    -0.65     0.26    -1.22    -1.41    -3.01     0.21   \n",
       "50%      -0.03     0.00    -0.40     0.46    -0.26    -0.51    -1.62     1.05   \n",
       "75%       0.95     0.69    -0.13     0.64     0.89     0.53     0.01     1.89   \n",
       "max       4.85     3.63     0.46     0.99     4.33     4.45     5.17     6.53   \n",
       "\n",
       "            x5       x6  \n",
       "count 10000.00 10000.00  \n",
       "mean      0.30     3.64  \n",
       "std       0.46     2.13  \n",
       "min       0.00     0.00  \n",
       "25%       0.00     2.00  \n",
       "50%       0.00     5.00  \n",
       "75%       1.00     5.00  \n",
       "max       1.00     6.00  "
      ]
     },
     "execution_count": 38,
     "metadata": {},
     "output_type": "execute_result"
    }
   ],
   "source": [
    "data = pd.concat([num_data_transformed, cat_data], axis=1)\n",
    "data.describe()"
   ]
  },
  {
   "cell_type": "code",
   "execution_count": 39,
   "metadata": {},
   "outputs": [
    {
     "data": {
      "text/plain": [
       "array([0, 1, 2, 1, 0, 2, 0, 0, 2, 1])"
      ]
     },
     "execution_count": 39,
     "metadata": {},
     "output_type": "execute_result"
    }
   ],
   "source": [
    "# make predictions\n",
    "predictions = voting.predict(data)\n",
    "predictions[:10]"
   ]
  },
  {
   "cell_type": "code",
   "execution_count": 40,
   "metadata": {},
   "outputs": [
    {
     "data": {
      "text/plain": [
       "['Atsuto',\n",
       " 'Bob',\n",
       " 'Jörg',\n",
       " 'Bob',\n",
       " 'Atsuto',\n",
       " 'Jörg',\n",
       " 'Atsuto',\n",
       " 'Atsuto',\n",
       " 'Jörg',\n",
       " 'Bob']"
      ]
     },
     "execution_count": 40,
     "metadata": {},
     "output_type": "execute_result"
    }
   ],
   "source": [
    "# convert labels\n",
    "results = []\n",
    "for p in predictions:\n",
    "    if p == 0:\n",
    "        results.append('Atsuto')\n",
    "    if p == 1:\n",
    "        results.append('Bob')\n",
    "    if p == 2:\n",
    "        results.append('Jörg')\n",
    "        \n",
    "results[:10]"
   ]
  },
  {
   "cell_type": "code",
   "execution_count": 44,
   "metadata": {},
   "outputs": [],
   "source": [
    "# write to txt file\n",
    "with open('106716.txt', 'w') as f:\n",
    "    for item in results:\n",
    "        f.write(\"%s\\n\" % item)"
   ]
  },
  {
   "cell_type": "code",
   "execution_count": 45,
   "metadata": {},
   "outputs": [
    {
     "name": "stdout",
     "output_type": "stream",
     "text": [
      "all classes:\n",
      "  ['Atsuto' 'Bob' 'Jörg']\n",
      "counts of classes:\n",
      "  [3050 5163 1787]\n",
      "%:\n",
      "  [0.305  0.5163 0.1787]\n"
     ]
    }
   ],
   "source": [
    "# numbers in each class\n",
    "classes, cnts = np.unique(results, return_counts=True)\n",
    "print('all classes:\\n  {}'.format(classes))\n",
    "print('counts of classes:\\n  {}'.format(cnts))\n",
    "print('%:\\n  {}'.format(cnts/len(results)))"
   ]
  },
  {
   "cell_type": "code",
   "execution_count": null,
   "metadata": {},
   "outputs": [],
   "source": []
  }
 ],
 "metadata": {
  "kernelspec": {
   "display_name": "Python 3.8.5 64-bit",
   "language": "python",
   "name": "python38564bit5179843866d94cf38ac04fcdba709a21"
  },
  "language_info": {
   "codemirror_mode": {
    "name": "ipython",
    "version": 3
   },
   "file_extension": ".py",
   "mimetype": "text/x-python",
   "name": "python",
   "nbconvert_exporter": "python",
   "pygments_lexer": "ipython3",
   "version": "3.8.5"
  }
 },
 "nbformat": 4,
 "nbformat_minor": 4
}
